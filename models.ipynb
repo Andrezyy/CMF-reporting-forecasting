{
 "cells": [
  {
   "cell_type": "code",
   "execution_count": 1,
   "id": "d2075340-ad16-464c-9e2b-8ab89690e3dd",
   "metadata": {},
   "outputs": [],
   "source": [
    "import numpy as np\n",
    "import pandas as pd\n",
    "import matplotlib.pyplot as plt\n",
    "import seaborn as sns\n",
    "import os\n",
    "\n",
    "from statsmodels.tsa.api import SimpleExpSmoothing\n",
    "\n",
    "from sklearn.metrics import mean_absolute_percentage_error\n",
    "from sklearn.linear_model import Ridge\n",
    "\n",
    "from catboost import CatBoostRegressor"
   ]
  },
  {
   "cell_type": "code",
   "execution_count": 2,
   "id": "22c4ca03-882f-4d9b-9c89-c7d710d2cb9f",
   "metadata": {},
   "outputs": [],
   "source": [
    "train = pd.read_csv(r\"data/processed/train.csv\")\n",
    "train.Date = pd.to_datetime(train.Date)\n",
    "\n",
    "test = pd.read_csv(r\"data/processed/test.csv\")\n",
    "test.Date = pd.to_datetime(test.Date)"
   ]
  },
  {
   "cell_type": "markdown",
   "id": "31830e5f-b9ee-4851-ab43-8dbbce12437a",
   "metadata": {},
   "source": [
    "У некоторых компаний слишком мало строк в тренировочном наборе, а именно 5-9 строк"
   ]
  },
  {
   "cell_type": "code",
   "execution_count": 3,
   "id": "372ef903-52a1-4f2b-b9a7-eb772bfe8fbc",
   "metadata": {},
   "outputs": [
    {
     "data": {
      "text/plain": [
       "Company\n",
       "MNRL     5\n",
       "MGY      9\n",
       "BRY      9\n",
       "XOG     16\n",
       "CDEV    17\n",
       "Name: Revenue, dtype: int64"
      ]
     },
     "execution_count": 3,
     "metadata": {},
     "output_type": "execute_result"
    }
   ],
   "source": [
    "train.groupby('Company')['Revenue'].count().sort_values().head(5)"
   ]
  },
  {
   "cell_type": "code",
   "execution_count": null,
   "id": "e9e4c8fe-5837-4522-9f51-66f443138b04",
   "metadata": {},
   "outputs": [],
   "source": []
  },
  {
   "cell_type": "code",
   "execution_count": null,
   "id": "fe4967ce-3119-4e2a-85fd-1808254b3798",
   "metadata": {},
   "outputs": [],
   "source": []
  },
  {
   "cell_type": "markdown",
   "id": "1350d453-57bb-415d-9f22-18a5363fd833",
   "metadata": {
    "tags": []
   },
   "source": [
    "### **Бейзлайн**"
   ]
  },
  {
   "cell_type": "markdown",
   "id": "014f5872-aaf6-4f76-8fdf-e24e1154b9a4",
   "metadata": {},
   "source": [
    "Exponential Smoothing"
   ]
  },
  {
   "cell_type": "markdown",
   "id": "dca1b0ae-a2fc-4503-8031-b6c0f7085cf3",
   "metadata": {},
   "source": [
    "Для каждой компании обучим свою exp smoofing"
   ]
  },
  {
   "cell_type": "code",
   "execution_count": 4,
   "id": "227a212c-2d90-40f3-b7d7-373b0a663c94",
   "metadata": {},
   "outputs": [],
   "source": [
    "import warnings\n",
    "warnings.filterwarnings(\"ignore\")"
   ]
  },
  {
   "cell_type": "markdown",
   "id": "534de87b-191c-4b17-aa93-3beba13525a5",
   "metadata": {},
   "source": [
    "Revenue"
   ]
  },
  {
   "cell_type": "code",
   "execution_count": 5,
   "id": "ca2e4839-83f8-45ee-bb88-e5965f1d86ac",
   "metadata": {
    "tags": []
   },
   "outputs": [],
   "source": [
    "groups = train.groupby(by='Company')\n",
    "train_mapes = []\n",
    "test_mapes=[]\n",
    "for company_name, group in groups:\n",
    "    test_series = pd.Series(data =  np.array(test[test.Company == company_name]['Revenue']), index = test[test.Company == company_name]['Date'])\n",
    "    series = pd.Series(data = np.array(group['Revenue']), index = group['Date'])\n",
    "        \n",
    "    smoof = SimpleExpSmoothing(series, initialization_method=\"estimated\").fit()\n",
    "    preds = smoof.fittedvalues\n",
    "    forecast = smoof.forecast(4)\n",
    "    \n",
    "    train_mape = mean_absolute_percentage_error(series, preds)\n",
    "    test_mape = mean_absolute_percentage_error(test_series, forecast)\n",
    "    train_mapes.append(train_mape)\n",
    "    test_mapes.append(test_mape)\n",
    "    \n",
    "    # plt.figure(figsize=(6,3))\n",
    "    # plt.title(f'{company_name}, train mape = {np.round(train_mape,2)}, test mape = {np.round(test_mape,2)}')\n",
    "    # plt.plot(preds, marker=\"o\", color=\"blue\")\n",
    "    # (line1,) = plt.plot(forecast, marker=\"o\", color=\"blue\")\n",
    "    # plt.plot(series, marker='o', color = 'green')\n",
    "    # (line2,)= plt.plot(test_series, marker='o', color = 'green')\n",
    "    # plt.legend([line1, line2],['ExpSmooth','True'])\n",
    "    # plt.plot()\n",
    "    \n",
    "train_mapes = np.array(train_mapes)\n",
    "test_mapes = np.array(test_mapes)"
   ]
  },
  {
   "cell_type": "markdown",
   "id": "7411454c-f88d-417c-9e1a-5638b7170ef2",
   "metadata": {},
   "source": [
    "Operatinig Income"
   ]
  },
  {
   "cell_type": "code",
   "execution_count": 6,
   "id": "86077b65-6684-4ba6-8e2c-537ed2a087d1",
   "metadata": {
    "tags": []
   },
   "outputs": [],
   "source": [
    "groups = train.groupby(by='Company')\n",
    "train_mapes_income = []\n",
    "test_mapes_income=[]\n",
    "for company_name, group in groups:\n",
    "    test_series = pd.Series(data =  np.array(test[test.Company == company_name]['Operating Income']), index = test[test.Company == company_name]['Date'])\n",
    "    series = pd.Series(data = np.array(group['Operating Income']), index = group['Date'])\n",
    "        \n",
    "    smoof = SimpleExpSmoothing(series, initialization_method=\"estimated\").fit()\n",
    "    preds = smoof.fittedvalues\n",
    "    forecast = smoof.forecast(4)\n",
    "    \n",
    "    train_mape = mean_absolute_percentage_error(series, preds)\n",
    "    test_mape = mean_absolute_percentage_error(test_series, forecast)\n",
    "    train_mapes_income.append(train_mape)\n",
    "    test_mapes_income.append(test_mape)\n",
    "    \n",
    "    # plt.figure(figsize=(6,3))\n",
    "    # plt.title(f'{company_name}, train mape = {np.round(train_mape,2)}, test mape = {np.round(test_mape,2)}')\n",
    "    # plt.plot(preds, marker=\"o\", color=\"blue\")\n",
    "    # (line1,) = plt.plot(forecast, marker=\"o\", color=\"blue\")\n",
    "    # plt.plot(series, marker='o', color = 'green')\n",
    "    # (line2,)= plt.plot(test_series, marker='o', color = 'green')\n",
    "    # plt.legend([line1, line2],['ExpSmooth','True'])\n",
    "    # plt.plot()\n",
    "    \n",
    "train_mapes_income = np.array(train_mapes_income)\n",
    "test_mapes_income = np.array(test_mapes_income)"
   ]
  },
  {
   "cell_type": "code",
   "execution_count": 7,
   "id": "d0d4cd61-56e0-4174-b753-461cae94a2ee",
   "metadata": {},
   "outputs": [],
   "source": [
    "result = pd.DataFrame(columns = ['model','target','avg train mape', 'avg test mape', 'min train mape', 'min test mape', 'max train mape', 'max test mape'],\n",
    "                     data = [['Exp smoth', 'Revenue', np.round(np.mean(train_mapes),2), np.round(np.mean(test_mapes),2),\n",
    "                              np.round(np.min(train_mapes),2), np.round(np.min(test_mapes),2), np.round(np.max(train_mapes),2), np.round(np.max(test_mapes),2)],\n",
    "                            ['Exp smoth', 'Operating Income', np.round(np.mean(train_mapes_income),2), np.round(np.mean(test_mapes_income),2),\n",
    "                              np.round(np.min(train_mapes_income),2), np.round(np.min(test_mapes_income),2), np.round(np.max(train_mapes_income),2), np.round(np.max(test_mapes_income),2)]])"
   ]
  },
  {
   "cell_type": "code",
   "execution_count": 8,
   "id": "eb48edf6-2ba8-4e2e-bbe0-90d3ff2a01ee",
   "metadata": {},
   "outputs": [
    {
     "data": {
      "text/html": [
       "<div>\n",
       "<style scoped>\n",
       "    .dataframe tbody tr th:only-of-type {\n",
       "        vertical-align: middle;\n",
       "    }\n",
       "\n",
       "    .dataframe tbody tr th {\n",
       "        vertical-align: top;\n",
       "    }\n",
       "\n",
       "    .dataframe thead th {\n",
       "        text-align: right;\n",
       "    }\n",
       "</style>\n",
       "<table border=\"1\" class=\"dataframe\">\n",
       "  <thead>\n",
       "    <tr style=\"text-align: right;\">\n",
       "      <th></th>\n",
       "      <th>model</th>\n",
       "      <th>target</th>\n",
       "      <th>avg train mape</th>\n",
       "      <th>avg test mape</th>\n",
       "      <th>min train mape</th>\n",
       "      <th>min test mape</th>\n",
       "      <th>max train mape</th>\n",
       "      <th>max test mape</th>\n",
       "    </tr>\n",
       "  </thead>\n",
       "  <tbody>\n",
       "    <tr>\n",
       "      <th>0</th>\n",
       "      <td>Exp smoth</td>\n",
       "      <td>Revenue</td>\n",
       "      <td>0.19</td>\n",
       "      <td>0.66</td>\n",
       "      <td>0.08</td>\n",
       "      <td>0.09</td>\n",
       "      <td>1.01</td>\n",
       "      <td>4.40</td>\n",
       "    </tr>\n",
       "    <tr>\n",
       "      <th>1</th>\n",
       "      <td>Exp smoth</td>\n",
       "      <td>Operating Income</td>\n",
       "      <td>2.42</td>\n",
       "      <td>7.51</td>\n",
       "      <td>0.19</td>\n",
       "      <td>0.22</td>\n",
       "      <td>18.68</td>\n",
       "      <td>136.43</td>\n",
       "    </tr>\n",
       "  </tbody>\n",
       "</table>\n",
       "</div>"
      ],
      "text/plain": [
       "       model            target  avg train mape  avg test mape  min train mape  \\\n",
       "0  Exp smoth           Revenue            0.19           0.66            0.08   \n",
       "1  Exp smoth  Operating Income            2.42           7.51            0.19   \n",
       "\n",
       "   min test mape  max train mape  max test mape  \n",
       "0           0.09            1.01           4.40  \n",
       "1           0.22           18.68         136.43  "
      ]
     },
     "execution_count": 8,
     "metadata": {},
     "output_type": "execute_result"
    }
   ],
   "source": [
    "result"
   ]
  },
  {
   "cell_type": "markdown",
   "id": "002f9a8d-e086-428b-8a8c-efa6adf357cb",
   "metadata": {},
   "source": [
    "**Мысли по результатам**"
   ]
  },
  {
   "cell_type": "markdown",
   "id": "4a472e01-0373-4bc5-9ff6-2236f49fb33b",
   "metadata": {},
   "source": [
    "Гигантские значение MAPE в Operating Income обусловленны тем, что Operating Income может крутиться в районе нуля из-за чего может получиться, что наше предсказание например 101, а истинный Operating Income = 1, тогда MAPE = 100. Revenue ведет себя более сдержано и у нуля не бывает."
   ]
  },
  {
   "cell_type": "code",
   "execution_count": null,
   "id": "883ac9f8-816e-4f53-b4d2-c05e809739d2",
   "metadata": {},
   "outputs": [],
   "source": []
  },
  {
   "cell_type": "markdown",
   "id": "406bf319-8c50-410b-bee8-ecb892927826",
   "metadata": {
    "tags": []
   },
   "source": [
    "### **Бейзлайн 2**"
   ]
  },
  {
   "cell_type": "markdown",
   "id": "e46f6d4b-ba95-486b-91be-3edb01a5cf61",
   "metadata": {},
   "source": [
    "Линейная регрессия"
   ]
  },
  {
   "cell_type": "markdown",
   "id": "99a4a6d2-14fc-47a0-b7c1-bb1ebe4604b9",
   "metadata": {},
   "source": [
    "У нас есть пара строк, где Revenue target и Operating Income target равны 0. Это критично, так как MAPE очень сильно карает за это, ведь во время подсчет метрики мы делим на 0. Заменим нули небольшими значениями."
   ]
  },
  {
   "cell_type": "code",
   "execution_count": 9,
   "id": "a4e38908-6b9b-46c1-bc43-3cd55872812d",
   "metadata": {},
   "outputs": [
    {
     "data": {
      "text/html": [
       "<div>\n",
       "<style scoped>\n",
       "    .dataframe tbody tr th:only-of-type {\n",
       "        vertical-align: middle;\n",
       "    }\n",
       "\n",
       "    .dataframe tbody tr th {\n",
       "        vertical-align: top;\n",
       "    }\n",
       "\n",
       "    .dataframe thead th {\n",
       "        text-align: right;\n",
       "    }\n",
       "</style>\n",
       "<table border=\"1\" class=\"dataframe\">\n",
       "  <thead>\n",
       "    <tr style=\"text-align: right;\">\n",
       "      <th></th>\n",
       "      <th>Revenue</th>\n",
       "      <th>Gross Profit</th>\n",
       "      <th>Operating Income</th>\n",
       "      <th>Pretax Income</th>\n",
       "      <th>Diluted EPS</th>\n",
       "      <th>EBITDA</th>\n",
       "      <th>ROA</th>\n",
       "      <th>ROE</th>\n",
       "      <th>Total Current Assets</th>\n",
       "      <th>Total Long-Term Assets</th>\n",
       "      <th>...</th>\n",
       "      <th>Total Equity</th>\n",
       "      <th>Cash from Operations</th>\n",
       "      <th>Cash from Investing Activities</th>\n",
       "      <th>Cash from Financing Activities</th>\n",
       "      <th>Date</th>\n",
       "      <th>Company</th>\n",
       "      <th>Revenue target</th>\n",
       "      <th>Operating Income target</th>\n",
       "      <th>Revenue target change</th>\n",
       "      <th>Operating Income target change</th>\n",
       "    </tr>\n",
       "  </thead>\n",
       "  <tbody>\n",
       "    <tr>\n",
       "      <th>75</th>\n",
       "      <td>92.034</td>\n",
       "      <td>59.892</td>\n",
       "      <td>48.915</td>\n",
       "      <td>24.545</td>\n",
       "      <td>0.000000</td>\n",
       "      <td>97.443</td>\n",
       "      <td>0.011539</td>\n",
       "      <td>0.022134</td>\n",
       "      <td>274.606016</td>\n",
       "      <td>3344.187032</td>\n",
       "      <td>...</td>\n",
       "      <td>1673.736960</td>\n",
       "      <td>100.491</td>\n",
       "      <td>124.699</td>\n",
       "      <td>-222.040</td>\n",
       "      <td>2012-03-31</td>\n",
       "      <td>AR</td>\n",
       "      <td>0.000</td>\n",
       "      <td>0.0</td>\n",
       "      <td>-92.034</td>\n",
       "      <td>-48.915</td>\n",
       "    </tr>\n",
       "    <tr>\n",
       "      <th>1358</th>\n",
       "      <td>60.116</td>\n",
       "      <td>-4.949</td>\n",
       "      <td>-13.628</td>\n",
       "      <td>-33.066</td>\n",
       "      <td>-0.742289</td>\n",
       "      <td>21.978</td>\n",
       "      <td>-0.061005</td>\n",
       "      <td>0.000000</td>\n",
       "      <td>48.231000</td>\n",
       "      <td>976.047000</td>\n",
       "      <td>...</td>\n",
       "      <td>-324.810048</td>\n",
       "      <td>-1.029</td>\n",
       "      <td>-21.724</td>\n",
       "      <td>29.429</td>\n",
       "      <td>2015-09-30</td>\n",
       "      <td>SBOW</td>\n",
       "      <td>50.099</td>\n",
       "      <td>0.0</td>\n",
       "      <td>-10.017</td>\n",
       "      <td>13.628</td>\n",
       "    </tr>\n",
       "  </tbody>\n",
       "</table>\n",
       "<p>2 rows × 24 columns</p>\n",
       "</div>"
      ],
      "text/plain": [
       "      Revenue  Gross Profit  Operating Income  Pretax Income  Diluted EPS  \\\n",
       "75     92.034        59.892            48.915         24.545     0.000000   \n",
       "1358   60.116        -4.949           -13.628        -33.066    -0.742289   \n",
       "\n",
       "      EBITDA       ROA       ROE  Total Current Assets  \\\n",
       "75    97.443  0.011539  0.022134            274.606016   \n",
       "1358  21.978 -0.061005  0.000000             48.231000   \n",
       "\n",
       "      Total Long-Term Assets  ...  Total Equity  Cash from Operations  \\\n",
       "75               3344.187032  ...   1673.736960               100.491   \n",
       "1358              976.047000  ...   -324.810048                -1.029   \n",
       "\n",
       "      Cash from Investing Activities  Cash from Financing Activities  \\\n",
       "75                           124.699                        -222.040   \n",
       "1358                         -21.724                          29.429   \n",
       "\n",
       "           Date  Company  Revenue target  Operating Income target  \\\n",
       "75   2012-03-31       AR           0.000                      0.0   \n",
       "1358 2015-09-30     SBOW          50.099                      0.0   \n",
       "\n",
       "     Revenue target change Operating Income target change  \n",
       "75                 -92.034                        -48.915  \n",
       "1358               -10.017                         13.628  \n",
       "\n",
       "[2 rows x 24 columns]"
      ]
     },
     "execution_count": 9,
     "metadata": {},
     "output_type": "execute_result"
    }
   ],
   "source": [
    "train[(train['Revenue target'] == 0) | (train['Operating Income target'] == 0)]"
   ]
  },
  {
   "cell_type": "code",
   "execution_count": 10,
   "id": "9e3a7ff3-6ca8-406c-bd33-18abf6630b02",
   "metadata": {},
   "outputs": [],
   "source": [
    "idx = train[train['Revenue target'] == 0].index\n",
    "train.loc[idx, 'Revenue target'] = 50\n",
    "idx = train[train['Operating Income target'] == 0].index\n",
    "train.loc[idx, 'Operating Income target'] = 50"
   ]
  },
  {
   "cell_type": "markdown",
   "id": "24501c28-f551-4249-85e4-d74d98b6a6a6",
   "metadata": {},
   "source": [
    "Создаем наши фолды для кроссвалидации. Классический timeseries kfold split."
   ]
  },
  {
   "cell_type": "code",
   "execution_count": 11,
   "id": "c24be66f-9e44-4b97-a45b-2234bae2f8fd",
   "metadata": {},
   "outputs": [
    {
     "data": {
      "text/plain": [
       "array(['2011-03-31T00:00:00.000000000', '2011-06-30T00:00:00.000000000',\n",
       "       '2011-09-30T00:00:00.000000000', '2011-12-31T00:00:00.000000000',\n",
       "       '2012-03-31T00:00:00.000000000', '2012-06-30T00:00:00.000000000',\n",
       "       '2012-09-30T00:00:00.000000000', '2012-12-31T00:00:00.000000000',\n",
       "       '2013-03-31T00:00:00.000000000', '2013-06-30T00:00:00.000000000',\n",
       "       '2013-09-30T00:00:00.000000000', '2013-12-31T00:00:00.000000000',\n",
       "       '2014-03-31T00:00:00.000000000', '2014-06-30T00:00:00.000000000',\n",
       "       '2014-09-30T00:00:00.000000000', '2014-12-31T00:00:00.000000000',\n",
       "       '2015-03-31T00:00:00.000000000', '2015-06-30T00:00:00.000000000',\n",
       "       '2015-09-30T00:00:00.000000000', '2015-12-31T00:00:00.000000000',\n",
       "       '2016-03-31T00:00:00.000000000', '2016-06-30T00:00:00.000000000',\n",
       "       '2016-09-30T00:00:00.000000000', '2016-12-31T00:00:00.000000000',\n",
       "       '2017-03-31T00:00:00.000000000', '2017-06-30T00:00:00.000000000',\n",
       "       '2017-09-30T00:00:00.000000000', '2017-12-31T00:00:00.000000000',\n",
       "       '2018-03-31T00:00:00.000000000', '2018-06-30T00:00:00.000000000',\n",
       "       '2018-09-30T00:00:00.000000000', '2018-12-31T00:00:00.000000000',\n",
       "       '2019-03-31T00:00:00.000000000', '2019-06-30T00:00:00.000000000',\n",
       "       '2019-09-30T00:00:00.000000000', '2019-12-31T00:00:00.000000000',\n",
       "       '2020-03-31T00:00:00.000000000'], dtype='datetime64[ns]')"
      ]
     },
     "execution_count": 11,
     "metadata": {},
     "output_type": "execute_result"
    }
   ],
   "source": [
    "np.sort(train.Date.unique())"
   ]
  },
  {
   "cell_type": "code",
   "execution_count": 12,
   "id": "12266abf-4b0a-4f3e-bb95-12514c0eda1a",
   "metadata": {},
   "outputs": [],
   "source": [
    "train1 = train[train.Date <= '2018-09-30'].index\n",
    "test1 =  train[(train.Date > '2018-09-30') & (train.Date <= '2019-03-31')].index\n",
    "\n",
    "train2 = train[train.Date <= '2019-03-31'].index\n",
    "test2 = train[(train.Date > '2019-03-31') & (train.Date <= '2019-09-30')].index\n",
    "\n",
    "train3 = train[train.Date <= '2019-09-30'].index\n",
    "test3 = train[train.Date > '2019-09-30'].index\n",
    "\n",
    "kfolds = [(train1,test1),(train2,test2),(train3,test3)]"
   ]
  },
  {
   "cell_type": "markdown",
   "id": "b0f39efa-1db2-487c-8fb2-aaf4b27fe897",
   "metadata": {},
   "source": [
    "В обучении не будем использовать дефолтные revenue и operating income, а также признаки change, так как иначе будут проблемы на тестовом наборе данных"
   ]
  },
  {
   "cell_type": "code",
   "execution_count": 13,
   "id": "8cc5b0ec-baa0-45ec-afc8-2f2b96484243",
   "metadata": {},
   "outputs": [],
   "source": [
    "data_train = train.drop(columns = ['Revenue','Operating Income','Revenue target','Operating Income target','Revenue target change','Operating Income target change','Date','Company'])\n",
    "data_test = test.drop(columns = ['Revenue','Operating Income','Revenue target','Operating Income target','Revenue target change','Operating Income target change','Date','Company'])"
   ]
  },
  {
   "cell_type": "markdown",
   "id": "39590728-4231-40ca-a608-6588765aef0c",
   "metadata": {},
   "source": [
    "Revenue"
   ]
  },
  {
   "cell_type": "code",
   "execution_count": 14,
   "id": "cc7e6e1c-1459-4d2a-b081-32e8c617a516",
   "metadata": {},
   "outputs": [],
   "source": [
    "target_train = train.loc[:,'Revenue target']\n",
    "target_test = test.loc[:,'Revenue target']"
   ]
  },
  {
   "cell_type": "code",
   "execution_count": 15,
   "id": "b1a65494-6172-413e-b483-0bc8377a488b",
   "metadata": {},
   "outputs": [],
   "source": [
    "train_mapes=[]\n",
    "test_mapes=[]\n",
    "for trn, tst in kfolds:\n",
    "    model = Ridge(alpha = 0.2)\n",
    "    model.fit(data_train.loc[trn,:], target_train[trn])\n",
    "    \n",
    "    preds = model.predict(data_train.loc[trn,:])\n",
    "    test_preds = model.predict(data_train.loc[tst,:])\n",
    "    \n",
    "    train_mapes.append(mean_absolute_percentage_error(target_train[trn], preds))\n",
    "    test_mapes.append(mean_absolute_percentage_error(target_train[tst], test_preds))\n",
    "    \n",
    "train_mapes = np.array(train_mapes)\n",
    "test_mapes = np.array(test_mapes)"
   ]
  },
  {
   "cell_type": "markdown",
   "id": "8c4066ec-ed8c-4c8a-9dde-162a7c67b9a3",
   "metadata": {},
   "source": [
    "Operating Income"
   ]
  },
  {
   "cell_type": "code",
   "execution_count": 16,
   "id": "626d76f0-18c5-45f4-beda-24fdc10c9a4b",
   "metadata": {},
   "outputs": [],
   "source": [
    "target_train = train.loc[:,'Operating Income target']\n",
    "target_test = test.loc[:,'Operating Income target']"
   ]
  },
  {
   "cell_type": "code",
   "execution_count": 17,
   "id": "30e63511-ef7f-4197-b14c-94ed9a624fec",
   "metadata": {},
   "outputs": [],
   "source": [
    "train_mapes_income=[]\n",
    "test_mapes_income=[]\n",
    "for trn, tst in kfolds:\n",
    "    model = Ridge(alpha = 0.2)\n",
    "    model.fit(data_train.loc[trn,:], target_train[trn])\n",
    "    \n",
    "    preds = model.predict(data_train.loc[trn,:])\n",
    "    test_preds = model.predict(data_train.loc[tst,:])\n",
    "    \n",
    "    train_mapes_income.append(mean_absolute_percentage_error(target_train[trn], preds))\n",
    "    test_mapes_income.append(mean_absolute_percentage_error(target_train[tst], test_preds))\n",
    "    \n",
    "train_mapes_income = np.array(train_mapes_income)\n",
    "test_mapes_income = np.array(test_mapes_income)"
   ]
  },
  {
   "cell_type": "code",
   "execution_count": 18,
   "id": "2ce57378-ceff-4630-b5bc-7e5cf4fbfac4",
   "metadata": {},
   "outputs": [],
   "source": [
    "result2 = pd.DataFrame(columns = ['model','target','avg train mape', 'avg test mape', 'min train mape', 'min test mape', 'max train mape', 'max test mape'],\n",
    "                     data = [['Ridge reg', 'Revenue', np.round(np.mean(train_mapes),2), np.round(np.mean(test_mapes),2),\n",
    "                              np.round(np.min(train_mapes),2), np.round(np.min(test_mapes),2), np.round(np.max(train_mapes),2), np.round(np.max(test_mapes),2)],\n",
    "                            ['Ridge reg', 'Operating Income', np.round(np.mean(train_mapes_income),2), np.round(np.mean(test_mapes_income),2),\n",
    "                              np.round(np.min(train_mapes_income),2), np.round(np.min(test_mapes_income),2), np.round(np.max(train_mapes_income),2), np.round(np.max(test_mapes_income),2)]])\n",
    "result = result.append(result2, ignore_index = True)"
   ]
  },
  {
   "cell_type": "markdown",
   "id": "9cbdd2aa-82d5-4e5f-a1eb-9e087f6be028",
   "metadata": {
    "tags": []
   },
   "source": [
    "### **Результаты**"
   ]
  },
  {
   "cell_type": "markdown",
   "id": "0c63536f-79e5-457c-9681-fd314889ce00",
   "metadata": {},
   "source": [
    "В среднем экспоненциальное сглаживание лучше чем Ridge регрессия, однако в любом случае качество ужасное. Средняя ошибка на тесте по Operating Income может быть следствием одной гиганской ошибки в 136.43"
   ]
  },
  {
   "cell_type": "code",
   "execution_count": 19,
   "id": "b12ffaf1-f50f-4c94-96a9-a2925111af6c",
   "metadata": {},
   "outputs": [
    {
     "data": {
      "text/html": [
       "<div>\n",
       "<style scoped>\n",
       "    .dataframe tbody tr th:only-of-type {\n",
       "        vertical-align: middle;\n",
       "    }\n",
       "\n",
       "    .dataframe tbody tr th {\n",
       "        vertical-align: top;\n",
       "    }\n",
       "\n",
       "    .dataframe thead th {\n",
       "        text-align: right;\n",
       "    }\n",
       "</style>\n",
       "<table border=\"1\" class=\"dataframe\">\n",
       "  <thead>\n",
       "    <tr style=\"text-align: right;\">\n",
       "      <th></th>\n",
       "      <th>model</th>\n",
       "      <th>target</th>\n",
       "      <th>avg train mape</th>\n",
       "      <th>avg test mape</th>\n",
       "      <th>min train mape</th>\n",
       "      <th>min test mape</th>\n",
       "      <th>max train mape</th>\n",
       "      <th>max test mape</th>\n",
       "    </tr>\n",
       "  </thead>\n",
       "  <tbody>\n",
       "    <tr>\n",
       "      <th>0</th>\n",
       "      <td>Exp smoth</td>\n",
       "      <td>Revenue</td>\n",
       "      <td>0.19</td>\n",
       "      <td>0.66</td>\n",
       "      <td>0.08</td>\n",
       "      <td>0.09</td>\n",
       "      <td>1.01</td>\n",
       "      <td>4.40</td>\n",
       "    </tr>\n",
       "    <tr>\n",
       "      <th>1</th>\n",
       "      <td>Exp smoth</td>\n",
       "      <td>Operating Income</td>\n",
       "      <td>2.42</td>\n",
       "      <td>7.51</td>\n",
       "      <td>0.19</td>\n",
       "      <td>0.22</td>\n",
       "      <td>18.68</td>\n",
       "      <td>136.43</td>\n",
       "    </tr>\n",
       "    <tr>\n",
       "      <th>2</th>\n",
       "      <td>Ridge reg</td>\n",
       "      <td>Revenue</td>\n",
       "      <td>0.98</td>\n",
       "      <td>0.90</td>\n",
       "      <td>0.93</td>\n",
       "      <td>0.54</td>\n",
       "      <td>1.01</td>\n",
       "      <td>1.14</td>\n",
       "    </tr>\n",
       "    <tr>\n",
       "      <th>3</th>\n",
       "      <td>Ridge reg</td>\n",
       "      <td>Operating Income</td>\n",
       "      <td>4.72</td>\n",
       "      <td>2.87</td>\n",
       "      <td>4.31</td>\n",
       "      <td>2.01</td>\n",
       "      <td>5.10</td>\n",
       "      <td>4.39</td>\n",
       "    </tr>\n",
       "  </tbody>\n",
       "</table>\n",
       "</div>"
      ],
      "text/plain": [
       "       model            target  avg train mape  avg test mape  min train mape  \\\n",
       "0  Exp smoth           Revenue            0.19           0.66            0.08   \n",
       "1  Exp smoth  Operating Income            2.42           7.51            0.19   \n",
       "2  Ridge reg           Revenue            0.98           0.90            0.93   \n",
       "3  Ridge reg  Operating Income            4.72           2.87            4.31   \n",
       "\n",
       "   min test mape  max train mape  max test mape  \n",
       "0           0.09            1.01           4.40  \n",
       "1           0.22           18.68         136.43  \n",
       "2           0.54            1.01           1.14  \n",
       "3           2.01            5.10           4.39  "
      ]
     },
     "execution_count": 19,
     "metadata": {},
     "output_type": "execute_result"
    }
   ],
   "source": [
    "result"
   ]
  },
  {
   "cell_type": "code",
   "execution_count": null,
   "id": "4b0c6e70-b629-4e31-a8c6-52d6b02bd012",
   "metadata": {},
   "outputs": [],
   "source": []
  },
  {
   "cell_type": "markdown",
   "id": "b3673a29-5641-4e09-84e9-d4a4fd153a80",
   "metadata": {
    "tags": []
   },
   "source": [
    "## Продолжение эксперементов"
   ]
  },
  {
   "cell_type": "markdown",
   "id": "9b7e7cd5-231e-4ff7-9511-ce9a33579c91",
   "metadata": {},
   "source": [
    "Что хочется попробовать:\n",
    "- Экспонециальное сглаживание по итерациям: \n",
    "    1. Обучили\n",
    "    2. Сделали предсказание на 1 шаг\n",
    "    3. Посчитали ошибку\n",
    "    4. Добавали истинное значение в обучающую выборку, вернулись к шагу 1\n",
    "- Градиентный бустинг\n",
    "    1. Обучили\n",
    "    2. Сделали предсказание на 1 шаг\n",
    "    3. Посчитали ошибку\n",
    "    4. Добавали истинное значение в обучающую выборку, вернулись к шагу 1"
   ]
  },
  {
   "cell_type": "markdown",
   "id": "6cfcab28-9814-4559-80da-ab8389ee4d79",
   "metadata": {
    "tags": []
   },
   "source": [
    "### Экспонециальное сглаживание по итерациям"
   ]
  },
  {
   "cell_type": "code",
   "execution_count": 20,
   "id": "54e445c8-2210-4f26-a279-39a8431e59a2",
   "metadata": {},
   "outputs": [],
   "source": [
    "def timeseries_for_train(test_sampels, column):\n",
    "    \"\"\"\n",
    "    Делаем timeseries для обучения экспоненциального сглаживания\n",
    "    \n",
    "    train_sample_size - кол-во объектов на которых обучаемся, если равно -1 значит на всех\n",
    "    test_sampels - кол-во первых объектов из теста для занесениях их в обучающую выборку\n",
    "    \"\"\"\n",
    "    train_part = pd.Series(data = np.array(group[column]), index = group['Date'])\n",
    "    test_part =  pd.Series(data =  np.array(test[test.Company == company_name][column]), index = test[test.Company == company_name]['Date'])[:test_sampels]\n",
    "    return pd.concat([train_part, test_part], ignore_index=False)\n",
    "\n",
    "def get_test_elem(k, column):\n",
    "    return pd.Series(data =  np.array(test[test.Company == company_name][column]), index = test[test.Company == company_name]['Date'])[k:k+1]\n",
    "    "
   ]
  },
  {
   "cell_type": "code",
   "execution_count": 21,
   "id": "fd37af21-7f7f-4aac-9298-e44ecb3fdd36",
   "metadata": {},
   "outputs": [],
   "source": [
    "groups = train.groupby(by='Company')\n",
    "train_mapes = []\n",
    "test_mapes=[]\n",
    "for company_name, group in groups:\n",
    "    \n",
    "    company_train_mapes = []\n",
    "    company_test_mapes = []\n",
    "    for i in range(4):\n",
    "        train_series = timeseries_for_train(i, 'Revenue')\n",
    "        test_elem = get_test_elem(i, 'Revenue')\n",
    "        smoof = SimpleExpSmoothing(train_series, initialization_method=\"estimated\").fit()\n",
    "        preds = smoof.fittedvalues\n",
    "        forecast = smoof.forecast(1)\n",
    "    \n",
    "        company_train_mapes.append(mean_absolute_percentage_error(train_series, preds))\n",
    "        company_test_mapes.append(mean_absolute_percentage_error(test_elem, forecast))\n",
    "\n",
    "    train_mapes.append(np.mean(company_train_mapes))\n",
    "    test_mapes.append(np.mean(company_test_mapes))"
   ]
  },
  {
   "cell_type": "code",
   "execution_count": 22,
   "id": "9236d298-34e8-46a5-8264-37e80e3e2d1d",
   "metadata": {},
   "outputs": [],
   "source": [
    "result2 = pd.DataFrame(columns = ['model','target','avg train mape', 'avg test mape', 'min train mape', 'min test mape', 'max train mape', 'max test mape'],\n",
    "                     data = [['Exp smoth iter', 'Revenue', np.round(np.mean(train_mapes),2), np.round(np.mean(test_mapes),2),\n",
    "                              np.round(np.min(train_mapes),2), np.round(np.min(test_mapes),2), np.round(np.max(train_mapes),2), np.round(np.max(test_mapes),2)]])\n",
    "result = result.append(result2, ignore_index = True)"
   ]
  },
  {
   "cell_type": "code",
   "execution_count": 23,
   "id": "472c5eec-f4c4-4df3-9f48-96710e37c553",
   "metadata": {},
   "outputs": [],
   "source": [
    "groups = train.groupby(by='Company')\n",
    "train_mapes = []\n",
    "test_mapes=[]\n",
    "for company_name, group in groups:\n",
    "    \n",
    "    company_train_mapes = []\n",
    "    company_test_mapes = []\n",
    "    for i in range(4):\n",
    "        train_series = timeseries_for_train(i, 'Operating Income')\n",
    "        test_elem = get_test_elem(i, 'Operating Income')\n",
    "        smoof = SimpleExpSmoothing(train_series, initialization_method=\"estimated\").fit()\n",
    "        preds = smoof.fittedvalues\n",
    "        forecast = smoof.forecast(1)\n",
    "    \n",
    "        company_train_mapes.append(mean_absolute_percentage_error(train_series, preds))\n",
    "        company_test_mapes.append(mean_absolute_percentage_error(test_elem, forecast))\n",
    "\n",
    "    train_mapes.append(np.mean(company_train_mapes))\n",
    "    test_mapes.append(np.mean(company_test_mapes))"
   ]
  },
  {
   "cell_type": "code",
   "execution_count": 24,
   "id": "a2f61366-6b87-4ccf-a421-05255bdd9e3b",
   "metadata": {},
   "outputs": [],
   "source": [
    "result2 = pd.DataFrame(columns = ['model','target','avg train mape', 'avg test mape', 'min train mape', 'min test mape', 'max train mape', 'max test mape'],\n",
    "                     data = [['Exp smoth iter', 'Operating Income', np.round(np.mean(train_mapes),2), np.round(np.mean(test_mapes),2),\n",
    "                              np.round(np.min(train_mapes),2), np.round(np.min(test_mapes),2), np.round(np.max(train_mapes),2), np.round(np.max(test_mapes),2)]])\n",
    "result = result.append(result2, ignore_index = True)"
   ]
  },
  {
   "cell_type": "code",
   "execution_count": 25,
   "id": "01271fa8-d99b-4752-8cec-eeff437e97fb",
   "metadata": {},
   "outputs": [
    {
     "data": {
      "text/html": [
       "<div>\n",
       "<style scoped>\n",
       "    .dataframe tbody tr th:only-of-type {\n",
       "        vertical-align: middle;\n",
       "    }\n",
       "\n",
       "    .dataframe tbody tr th {\n",
       "        vertical-align: top;\n",
       "    }\n",
       "\n",
       "    .dataframe thead th {\n",
       "        text-align: right;\n",
       "    }\n",
       "</style>\n",
       "<table border=\"1\" class=\"dataframe\">\n",
       "  <thead>\n",
       "    <tr style=\"text-align: right;\">\n",
       "      <th></th>\n",
       "      <th>model</th>\n",
       "      <th>target</th>\n",
       "      <th>avg train mape</th>\n",
       "      <th>avg test mape</th>\n",
       "      <th>min train mape</th>\n",
       "      <th>min test mape</th>\n",
       "      <th>max train mape</th>\n",
       "      <th>max test mape</th>\n",
       "    </tr>\n",
       "  </thead>\n",
       "  <tbody>\n",
       "    <tr>\n",
       "      <th>0</th>\n",
       "      <td>Exp smoth</td>\n",
       "      <td>Revenue</td>\n",
       "      <td>0.19</td>\n",
       "      <td>0.66</td>\n",
       "      <td>0.08</td>\n",
       "      <td>0.09</td>\n",
       "      <td>1.01</td>\n",
       "      <td>4.40</td>\n",
       "    </tr>\n",
       "    <tr>\n",
       "      <th>1</th>\n",
       "      <td>Exp smoth</td>\n",
       "      <td>Operating Income</td>\n",
       "      <td>2.42</td>\n",
       "      <td>7.51</td>\n",
       "      <td>0.19</td>\n",
       "      <td>0.22</td>\n",
       "      <td>18.68</td>\n",
       "      <td>136.43</td>\n",
       "    </tr>\n",
       "    <tr>\n",
       "      <th>2</th>\n",
       "      <td>Ridge reg</td>\n",
       "      <td>Revenue</td>\n",
       "      <td>0.98</td>\n",
       "      <td>0.90</td>\n",
       "      <td>0.93</td>\n",
       "      <td>0.54</td>\n",
       "      <td>1.01</td>\n",
       "      <td>1.14</td>\n",
       "    </tr>\n",
       "    <tr>\n",
       "      <th>3</th>\n",
       "      <td>Ridge reg</td>\n",
       "      <td>Operating Income</td>\n",
       "      <td>4.72</td>\n",
       "      <td>2.87</td>\n",
       "      <td>4.31</td>\n",
       "      <td>2.01</td>\n",
       "      <td>5.10</td>\n",
       "      <td>4.39</td>\n",
       "    </tr>\n",
       "    <tr>\n",
       "      <th>4</th>\n",
       "      <td>Exp smoth iter</td>\n",
       "      <td>Revenue</td>\n",
       "      <td>0.22</td>\n",
       "      <td>0.56</td>\n",
       "      <td>0.09</td>\n",
       "      <td>0.08</td>\n",
       "      <td>0.95</td>\n",
       "      <td>2.68</td>\n",
       "    </tr>\n",
       "    <tr>\n",
       "      <th>5</th>\n",
       "      <td>Exp smoth iter</td>\n",
       "      <td>Operating Income</td>\n",
       "      <td>2.54</td>\n",
       "      <td>5.02</td>\n",
       "      <td>0.19</td>\n",
       "      <td>0.26</td>\n",
       "      <td>19.80</td>\n",
       "      <td>141.68</td>\n",
       "    </tr>\n",
       "  </tbody>\n",
       "</table>\n",
       "</div>"
      ],
      "text/plain": [
       "            model            target  avg train mape  avg test mape  \\\n",
       "0       Exp smoth           Revenue            0.19           0.66   \n",
       "1       Exp smoth  Operating Income            2.42           7.51   \n",
       "2       Ridge reg           Revenue            0.98           0.90   \n",
       "3       Ridge reg  Operating Income            4.72           2.87   \n",
       "4  Exp smoth iter           Revenue            0.22           0.56   \n",
       "5  Exp smoth iter  Operating Income            2.54           5.02   \n",
       "\n",
       "   min train mape  min test mape  max train mape  max test mape  \n",
       "0            0.08           0.09            1.01           4.40  \n",
       "1            0.19           0.22           18.68         136.43  \n",
       "2            0.93           0.54            1.01           1.14  \n",
       "3            4.31           2.01            5.10           4.39  \n",
       "4            0.09           0.08            0.95           2.68  \n",
       "5            0.19           0.26           19.80         141.68  "
      ]
     },
     "execution_count": 25,
     "metadata": {},
     "output_type": "execute_result"
    }
   ],
   "source": [
    "result"
   ]
  },
  {
   "cell_type": "markdown",
   "id": "b25e9e40-c37a-412e-b0af-0e4441e0f24a",
   "metadata": {},
   "source": [
    "Глядя на получившиеся результата (Exp smoth iter), видно что результаты все также плохи"
   ]
  },
  {
   "cell_type": "markdown",
   "id": "8582abed-9f06-4abd-bc6e-ce35fbc5f6e0",
   "metadata": {
    "tags": []
   },
   "source": [
    "### Градиентный бустинг (Revenue target)"
   ]
  },
  {
   "cell_type": "code",
   "execution_count": 26,
   "id": "3f24218c-3f92-478a-98fa-4178d5576393",
   "metadata": {},
   "outputs": [],
   "source": [
    "features = ['Gross Profit','Operating Income','Pretax Income','Diluted EPS','EBITDA', 'ROA', 'ROE', 'Total Current Assets',\n",
    "              'Total Long-Term Assets', 'Total Assets', 'Total Current Liabilities','Total Noncurrent Liabilities', 'Total Liabilities', 'Total Equity',\n",
    "              'Cash from Operations', 'Cash from Investing Activities','Cash from Financing Activities']"
   ]
  },
  {
   "cell_type": "code",
   "execution_count": 27,
   "id": "64eb07ee-5043-45fe-ae6a-64b093c9da34",
   "metadata": {},
   "outputs": [],
   "source": [
    "x_train = train[features]\n",
    "y_train = train['Revenue target']"
   ]
  },
  {
   "cell_type": "markdown",
   "id": "1808710e-4180-46a1-9544-9fee25a61e44",
   "metadata": {},
   "source": [
    "Хорошие модели (нашлись в ходе гридсерча)"
   ]
  },
  {
   "cell_type": "code",
   "execution_count": 28,
   "id": "e7412bf0-4ed0-451c-8338-738c5c174eae",
   "metadata": {},
   "outputs": [],
   "source": [
    "model1 = CatBoostRegressor(early_stopping_rounds=100,\n",
    "                          grow_policy = 'Depthwise',\n",
    "                          loss_function='MAPE',\n",
    "                          l2_leaf_reg = 0,\n",
    "                          learning_rate = 0.125,\n",
    "                          depth = 10,\n",
    "                          n_estimators = 90,\n",
    "                          verbose=False)\n",
    "\n",
    "model2 = CatBoostRegressor(early_stopping_rounds=100,\n",
    "                          grow_policy = 'Depthwise',\n",
    "                          loss_function='MAPE',\n",
    "                          l2_leaf_reg = 0,\n",
    "                          learning_rate = 0.075,\n",
    "                          depth = 10,\n",
    "                          n_estimators = 90,\n",
    "                          verbose=False)"
   ]
  },
  {
   "cell_type": "markdown",
   "id": "aaff7ea9-d8cf-48db-921b-50b2066e2f6c",
   "metadata": {},
   "source": [
    "Обучаем модели"
   ]
  },
  {
   "cell_type": "code",
   "execution_count": 29,
   "id": "ef09ea87-e1db-4a8c-b5a3-b574cf9594c2",
   "metadata": {},
   "outputs": [
    {
     "data": {
      "text/plain": [
       "<catboost.core.CatBoostRegressor at 0x1fa4a99fd00>"
      ]
     },
     "execution_count": 29,
     "metadata": {},
     "output_type": "execute_result"
    }
   ],
   "source": [
    "model1.fit(x_train, y_train)\n",
    "model2.fit(x_train, y_train)"
   ]
  },
  {
   "cell_type": "markdown",
   "id": "b5864a72-0b2d-408c-bc31-05eda17ac224",
   "metadata": {},
   "source": [
    "Делаем прогноз"
   ]
  },
  {
   "cell_type": "code",
   "execution_count": 30,
   "id": "fa6b1ec0-225d-4cb6-8c6c-b35f88147a94",
   "metadata": {},
   "outputs": [],
   "source": [
    "preds1 = model1.predict(test[features])\n",
    "preds2 = model2.predict(test[features])\n",
    "\n",
    "test.loc[:, 'Model 1'] = preds1\n",
    "test.loc[:, 'Model 2'] = preds2\n",
    "test.loc[:, 'Ensemble'] = preds1/2 + preds2/2"
   ]
  },
  {
   "cell_type": "code",
   "execution_count": 31,
   "id": "4a4fde3a-4e9c-453b-bbe1-5e0550164df6",
   "metadata": {},
   "outputs": [
    {
     "name": "stdout",
     "output_type": "stream",
     "text": [
      "MAPE test\n",
      "\n",
      "Model1 : 0.4151\n",
      "Model2 : 0.4318\n",
      "Ensemble : 0.4127\n"
     ]
    }
   ],
   "source": [
    "print('MAPE test\\n')\n",
    "e1 = mean_absolute_percentage_error(test['Revenue target'], test['Model 1'])\n",
    "e2 = mean_absolute_percentage_error(test['Revenue target'], test['Model 2'])\n",
    "e3 = mean_absolute_percentage_error(test['Revenue target'], test['Ensemble'])\n",
    "print(f'Model1 : {np.round(e1,4)}')\n",
    "print(f'Model2 : {np.round(e2,4)}')\n",
    "print(f'Ensemble : {np.round(e3,4)}')"
   ]
  },
  {
   "cell_type": "markdown",
   "id": "b6c701d1-684a-44db-9124-b9a3f18ba5c6",
   "metadata": {},
   "source": [
    "Неплохие результаты, глянем какие признаки важные"
   ]
  },
  {
   "cell_type": "code",
   "execution_count": 32,
   "id": "39f11c71-ead1-493e-9703-c1230dafad65",
   "metadata": {},
   "outputs": [
    {
     "data": {
      "text/plain": [
       "Text(0, 0.5, 'Mean decrease in impurity')"
      ]
     },
     "execution_count": 32,
     "metadata": {},
     "output_type": "execute_result"
    },
    {
     "data": {
      "text/plain": [
       "<Figure size 1000x500 with 0 Axes>"
      ]
     },
     "metadata": {},
     "output_type": "display_data"
    },
    {
     "data": {
      "image/png": "[encoded data removed]",
      "text/plain": [
       "<Figure size 640x480 with 1 Axes>"
      ]
     },
     "metadata": {},
     "output_type": "display_data"
    }
   ],
   "source": [
    "importances = model1.feature_importances_\n",
    "\n",
    "feature_importances = pd.Series(importances, index=features).sort_values(ascending=False)\n",
    "\n",
    "plt.figure(figsize=(10, 5))\n",
    "fig, ax = plt.subplots()\n",
    "feature_importances.plot.bar(ax=ax)\n",
    "ax.set_title(\"Feature importances using\")\n",
    "ax.set_ylabel(\"Mean decrease in impurity\")"
   ]
  },
  {
   "cell_type": "markdown",
   "id": "be6fb298-f508-4ae0-b8e2-124ce8a0d10e",
   "metadata": {},
   "source": [
    "### Градиентный бустинг (Operating Income target)"
   ]
  },
  {
   "cell_type": "code",
   "execution_count": 33,
   "id": "5f180043-7240-471b-a849-9038928bab81",
   "metadata": {},
   "outputs": [],
   "source": [
    "features = ['Revenue','Gross Profit','Pretax Income','Diluted EPS','EBITDA', 'ROA', 'ROE', 'Total Current Assets',\n",
    "              'Total Long-Term Assets', 'Total Assets', 'Total Current Liabilities','Total Noncurrent Liabilities', 'Total Liabilities', 'Total Equity',\n",
    "              'Cash from Operations', 'Cash from Investing Activities','Cash from Financing Activities']"
   ]
  },
  {
   "cell_type": "code",
   "execution_count": 34,
   "id": "941ad7c5-154d-4c4d-bc7a-55d2a1fbc867",
   "metadata": {},
   "outputs": [],
   "source": [
    "x_train = train[features]\n",
    "y_train = train['Operating Income target']"
   ]
  },
  {
   "cell_type": "markdown",
   "id": "e8149884-90a0-4960-9c84-3843bdc75e9f",
   "metadata": {},
   "source": [
    "Хорошие модели (нашлись в ходе гридсерча)"
   ]
  },
  {
   "cell_type": "code",
   "execution_count": 36,
   "id": "e56a0f8b-2868-4ae3-9b62-41ab116a6d80",
   "metadata": {},
   "outputs": [],
   "source": [
    "model1 = CatBoostRegressor(early_stopping_rounds=100,\n",
    "                          grow_policy = 'Depthwise',\n",
    "                          loss_function='MAPE',\n",
    "                          l2_leaf_reg = 1,\n",
    "                          learning_rate = 0.025,\n",
    "                          depth = 10,\n",
    "                          n_estimators = 70,\n",
    "                          verbose=False)\n",
    "model2 = CatBoostRegressor(early_stopping_rounds=100,\n",
    "                          grow_policy = 'Depthwise',\n",
    "                          loss_function='MAPE',\n",
    "                          l2_leaf_reg = 1,\n",
    "                          learning_rate = 0.025,\n",
    "                          depth = 13,\n",
    "                          n_estimators = 70,\n",
    "                          verbose=False)"
   ]
  },
  {
   "cell_type": "markdown",
   "id": "70152fb6-7925-4c66-9606-c29da2b85a01",
   "metadata": {},
   "source": [
    "Обучаем"
   ]
  },
  {
   "cell_type": "code",
   "execution_count": 37,
   "id": "55cb5c25-2697-42ac-bc34-2be3ebdfdca6",
   "metadata": {},
   "outputs": [
    {
     "data": {
      "text/plain": [
       "<catboost.core.CatBoostRegressor at 0x1fa4ab69580>"
      ]
     },
     "execution_count": 37,
     "metadata": {},
     "output_type": "execute_result"
    }
   ],
   "source": [
    "model1.fit(x_train, y_train)\n",
    "model2.fit(x_train, y_train)"
   ]
  },
  {
   "cell_type": "markdown",
   "id": "0704ff62-71dd-4479-b462-a6d22cfb48a9",
   "metadata": {},
   "source": [
    "Делаем прогноз"
   ]
  },
  {
   "cell_type": "code",
   "execution_count": 38,
   "id": "b0dd697e-2fab-4720-a94d-54f0be616cc5",
   "metadata": {},
   "outputs": [],
   "source": [
    "preds1 = model1.predict(test[features])\n",
    "preds2 = model2.predict(test[features])\n",
    "\n",
    "test.loc[:, 'Model 1'] = preds1\n",
    "test.loc[:, 'Model 2'] = preds2\n",
    "test.loc[:, 'Ensemble'] = preds1/2 + preds2/2"
   ]
  },
  {
   "cell_type": "code",
   "execution_count": 39,
   "id": "e5f37f86-5171-4915-af86-c421731011c8",
   "metadata": {},
   "outputs": [
    {
     "name": "stdout",
     "output_type": "stream",
     "text": [
      "MAPE test\n",
      "\n",
      "Model1 : 1.3905\n",
      "Model2 : 1.7785\n",
      "Ensemble : 1.4319\n"
     ]
    }
   ],
   "source": [
    "print('MAPE test\\n')\n",
    "e11 = mean_absolute_percentage_error(test['Operating Income target'], test['Model 1'])\n",
    "e22 = mean_absolute_percentage_error(test['Operating Income target'], test['Model 2'])\n",
    "e33 = mean_absolute_percentage_error(test['Operating Income target'], test['Ensemble'])\n",
    "print(f'Model1 : {np.round(e11,4)}')\n",
    "print(f'Model2 : {np.round(e22,4)}')\n",
    "print(f'Ensemble : {np.round(e33,4)}')"
   ]
  },
  {
   "cell_type": "code",
   "execution_count": null,
   "id": "59fff350-a95a-48f6-9825-8cb8abc33952",
   "metadata": {},
   "outputs": [],
   "source": []
  },
  {
   "cell_type": "markdown",
   "id": "383507e0-25e5-4ed6-bf80-4891ce6ee768",
   "metadata": {},
   "source": [
    "Обновим результаты"
   ]
  },
  {
   "cell_type": "code",
   "execution_count": 40,
   "id": "006e7867-73f3-414f-a980-b7e544adfde6",
   "metadata": {},
   "outputs": [],
   "source": [
    "result2 = pd.DataFrame(columns = ['model','target','avg train mape', 'avg test mape', 'min train mape', 'min test mape', 'max train mape', 'max test mape'],\n",
    "                     data = [['Boosting', 'Revenue', np.nan, e3, np.nan, np.nan, np.nan, np.nan],\n",
    "                            ['Boosting', 'Operating Income', np.nan, e33, np.nan, np.nan, np.nan, np.nan]])\n",
    "result = result.append(result2, ignore_index = True)"
   ]
  },
  {
   "cell_type": "markdown",
   "id": "a54349fc-310d-4079-b0eb-8d2d2d40b9cb",
   "metadata": {},
   "source": [
    "Ансамбль из 2х бустингов показал себя лучше всех, в обоих случаях"
   ]
  },
  {
   "cell_type": "code",
   "execution_count": 41,
   "id": "c5af4cb2-85f4-4f61-b7f0-889d4faa452b",
   "metadata": {},
   "outputs": [
    {
     "data": {
      "text/html": [
       "<div>\n",
       "<style scoped>\n",
       "    .dataframe tbody tr th:only-of-type {\n",
       "        vertical-align: middle;\n",
       "    }\n",
       "\n",
       "    .dataframe tbody tr th {\n",
       "        vertical-align: top;\n",
       "    }\n",
       "\n",
       "    .dataframe thead th {\n",
       "        text-align: right;\n",
       "    }\n",
       "</style>\n",
       "<table border=\"1\" class=\"dataframe\">\n",
       "  <thead>\n",
       "    <tr style=\"text-align: right;\">\n",
       "      <th></th>\n",
       "      <th>model</th>\n",
       "      <th>target</th>\n",
       "      <th>avg train mape</th>\n",
       "      <th>avg test mape</th>\n",
       "      <th>min train mape</th>\n",
       "      <th>min test mape</th>\n",
       "      <th>max train mape</th>\n",
       "      <th>max test mape</th>\n",
       "    </tr>\n",
       "  </thead>\n",
       "  <tbody>\n",
       "    <tr>\n",
       "      <th>0</th>\n",
       "      <td>Exp smoth</td>\n",
       "      <td>Revenue</td>\n",
       "      <td>0.19</td>\n",
       "      <td>0.660000</td>\n",
       "      <td>0.08</td>\n",
       "      <td>0.09</td>\n",
       "      <td>1.01</td>\n",
       "      <td>4.40</td>\n",
       "    </tr>\n",
       "    <tr>\n",
       "      <th>1</th>\n",
       "      <td>Exp smoth</td>\n",
       "      <td>Operating Income</td>\n",
       "      <td>2.42</td>\n",
       "      <td>7.510000</td>\n",
       "      <td>0.19</td>\n",
       "      <td>0.22</td>\n",
       "      <td>18.68</td>\n",
       "      <td>136.43</td>\n",
       "    </tr>\n",
       "    <tr>\n",
       "      <th>2</th>\n",
       "      <td>Ridge reg</td>\n",
       "      <td>Revenue</td>\n",
       "      <td>0.98</td>\n",
       "      <td>0.900000</td>\n",
       "      <td>0.93</td>\n",
       "      <td>0.54</td>\n",
       "      <td>1.01</td>\n",
       "      <td>1.14</td>\n",
       "    </tr>\n",
       "    <tr>\n",
       "      <th>3</th>\n",
       "      <td>Ridge reg</td>\n",
       "      <td>Operating Income</td>\n",
       "      <td>4.72</td>\n",
       "      <td>2.870000</td>\n",
       "      <td>4.31</td>\n",
       "      <td>2.01</td>\n",
       "      <td>5.10</td>\n",
       "      <td>4.39</td>\n",
       "    </tr>\n",
       "    <tr>\n",
       "      <th>4</th>\n",
       "      <td>Exp smoth iter</td>\n",
       "      <td>Revenue</td>\n",
       "      <td>0.22</td>\n",
       "      <td>0.560000</td>\n",
       "      <td>0.09</td>\n",
       "      <td>0.08</td>\n",
       "      <td>0.95</td>\n",
       "      <td>2.68</td>\n",
       "    </tr>\n",
       "    <tr>\n",
       "      <th>5</th>\n",
       "      <td>Exp smoth iter</td>\n",
       "      <td>Operating Income</td>\n",
       "      <td>2.54</td>\n",
       "      <td>5.020000</td>\n",
       "      <td>0.19</td>\n",
       "      <td>0.26</td>\n",
       "      <td>19.80</td>\n",
       "      <td>141.68</td>\n",
       "    </tr>\n",
       "    <tr>\n",
       "      <th>6</th>\n",
       "      <td>Boosting</td>\n",
       "      <td>Revenue</td>\n",
       "      <td>NaN</td>\n",
       "      <td>0.412677</td>\n",
       "      <td>NaN</td>\n",
       "      <td>NaN</td>\n",
       "      <td>NaN</td>\n",
       "      <td>NaN</td>\n",
       "    </tr>\n",
       "    <tr>\n",
       "      <th>7</th>\n",
       "      <td>Boosting</td>\n",
       "      <td>Operating Income</td>\n",
       "      <td>NaN</td>\n",
       "      <td>1.431912</td>\n",
       "      <td>NaN</td>\n",
       "      <td>NaN</td>\n",
       "      <td>NaN</td>\n",
       "      <td>NaN</td>\n",
       "    </tr>\n",
       "  </tbody>\n",
       "</table>\n",
       "</div>"
      ],
      "text/plain": [
       "            model            target  avg train mape  avg test mape  \\\n",
       "0       Exp smoth           Revenue            0.19       0.660000   \n",
       "1       Exp smoth  Operating Income            2.42       7.510000   \n",
       "2       Ridge reg           Revenue            0.98       0.900000   \n",
       "3       Ridge reg  Operating Income            4.72       2.870000   \n",
       "4  Exp smoth iter           Revenue            0.22       0.560000   \n",
       "5  Exp smoth iter  Operating Income            2.54       5.020000   \n",
       "6        Boosting           Revenue             NaN       0.412677   \n",
       "7        Boosting  Operating Income             NaN       1.431912   \n",
       "\n",
       "   min train mape  min test mape  max train mape  max test mape  \n",
       "0            0.08           0.09            1.01           4.40  \n",
       "1            0.19           0.22           18.68         136.43  \n",
       "2            0.93           0.54            1.01           1.14  \n",
       "3            4.31           2.01            5.10           4.39  \n",
       "4            0.09           0.08            0.95           2.68  \n",
       "5            0.19           0.26           19.80         141.68  \n",
       "6             NaN            NaN             NaN            NaN  \n",
       "7             NaN            NaN             NaN            NaN  "
      ]
     },
     "execution_count": 41,
     "metadata": {},
     "output_type": "execute_result"
    }
   ],
   "source": [
    "result"
   ]
  },
  {
   "cell_type": "code",
   "execution_count": null,
   "id": "89f6cbd5-8e9e-4c30-9751-c0c38bc929ff",
   "metadata": {},
   "outputs": [],
   "source": []
  },
  {
   "cell_type": "code",
   "execution_count": null,
   "id": "e891055b-d437-48c0-9aca-0670d612b68d",
   "metadata": {},
   "outputs": [],
   "source": []
  },
  {
   "cell_type": "code",
   "execution_count": null,
   "id": "beba4096-6fed-4a7e-9177-52e7dd0fecef",
   "metadata": {},
   "outputs": [],
   "source": []
  }
 ],
 "metadata": {
  "kernelspec": {
   "display_name": "Python 3 (ipykernel)",
   "language": "python",
   "name": "python3"
  },
  "language_info": {
   "codemirror_mode": {
    "name": "ipython",
    "version": 3
   },
   "file_extension": ".py",
   "mimetype": "text/x-python",
   "name": "python",
   "nbconvert_exporter": "python",
   "pygments_lexer": "ipython3",
   "version": "3.9.13"
  }
 },
 "nbformat": 4,
 "nbformat_minor": 5
}
