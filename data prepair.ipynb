{
 "cells": [
  {
   "cell_type": "code",
   "execution_count": 2,
   "id": "411d0842-924f-49c4-81cc-1ce809b04a92",
   "metadata": {},
   "outputs": [],
   "source": [
    "import numpy as np\n",
    "import pandas as pd\n",
    "from datetime import date\n",
    "from dateutil.relativedelta import relativedelta\n",
    "import os"
   ]
  },
  {
   "cell_type": "code",
   "execution_count": 3,
   "id": "9441c01a-17e2-411d-b8d1-d219dfb9260f",
   "metadata": {},
   "outputs": [],
   "source": [
    "wanted_features = ['Revenue','Gross Profit','Operating Income','Pretax Income','Diluted EPS','EBITDA',\n",
    "           'ROA','ROE','Cash from Operations','Cash from Investing Activities',\n",
    "           'Cash from Financing Activities','Total Current Assets','Total Long-Term Assets','Total Assets',\n",
    "           'Total Current Liabilities','Total Noncurrent Liabilities','Total Liabilities','Total Equity']"
   ]
  },
  {
   "cell_type": "markdown",
   "id": "edc5c806-b07e-4ea4-930a-9413c5b72e1e",
   "metadata": {},
   "source": [
    "1. Непонятные буковки это копия XOG.xlsx\n",
    "2. CRBO есть в oil_gas_train, но нет в oil_gas_train_test, поэтому обойдемся без него"
   ]
  },
  {
   "cell_type": "code",
   "execution_count": 10,
   "id": "182c3dea-ae5d-43f4-8988-8eefd8cc515c",
   "metadata": {},
   "outputs": [],
   "source": [
    "dir_path1 = 'data/raw/oil_gas_train_test'\n",
    "dir_path2 = 'data/raw/oil_gas_train'"
   ]
  },
  {
   "cell_type": "code",
   "execution_count": 11,
   "id": "6ae4c655-0bff-483f-acb1-ac544b5d5fd5",
   "metadata": {},
   "outputs": [
    {
     "data": {
      "text/plain": [
       "{'CRBO.xlsx', '¦Ъ¦-¦¬¦¦¦-8.xlsx'}"
      ]
     },
     "execution_count": 11,
     "metadata": {},
     "output_type": "execute_result"
    }
   ],
   "source": [
    "set(os.listdir(dir_path2)) - set(os.listdir(dir_path1)) "
   ]
  },
  {
   "cell_type": "code",
   "execution_count": 12,
   "id": "e1131c05-dcc3-4344-9c8f-8280c9dab435",
   "metadata": {},
   "outputs": [
    {
     "data": {
      "text/plain": [
       "set()"
      ]
     },
     "execution_count": 12,
     "metadata": {},
     "output_type": "execute_result"
    }
   ],
   "source": [
    "set(os.listdir(dir_path1)) - set(os.listdir(dir_path2)) "
   ]
  },
  {
   "cell_type": "code",
   "execution_count": null,
   "id": "96e19adb-4808-4220-8a79-ed3b98934ce8",
   "metadata": {},
   "outputs": [],
   "source": []
  },
  {
   "cell_type": "code",
   "execution_count": 13,
   "id": "25b9692e-2cda-4282-8a52-1f5ebd2bdb21",
   "metadata": {},
   "outputs": [],
   "source": [
    "dates = [date(2011, 3, 31) + relativedelta(months=i) for i in range(0, 124, 3)]"
   ]
  },
  {
   "cell_type": "code",
   "execution_count": 14,
   "id": "d4d4b60f-7122-48bd-b535-7cc198dca0a4",
   "metadata": {},
   "outputs": [],
   "source": [
    "lst = []\n",
    "for path in os.listdir(dir_path1):\n",
    "    if 'CRBO' in path in path:\n",
    "        continue\n",
    "    else:\n",
    "        data = pd.read_excel(f'{dir_path1}/{path}').iloc[27:, 8:]\n",
    "        data = data[data.iloc[:, 0].isin(wanted_features)]\n",
    "        data = data.transpose()\n",
    "        header = data.iloc[0]\n",
    "        data = data[1:]\n",
    "        data.columns = header\n",
    "        data = data.loc[:,~data.columns.duplicated()]\n",
    "        data['Date'] = pd.to_datetime(dates)\n",
    "        data['Company'] = path[:-5]\n",
    "        data.reset_index(drop=True, inplace=True)\n",
    "        lst.append(data)\n",
    "dataframe = pd.concat(lst, ignore_index=True)"
   ]
  },
  {
   "cell_type": "markdown",
   "id": "08e20679-8d6a-4dd0-bc43-c7a0de15f977",
   "metadata": {},
   "source": [
    "По показателями на момент t нужно предсказать Revenue и Operation income на момент t+1. Ключевые признаки нужно сдвинуть на dt=1 назад. Тогда получатся данные для задачи обучения с учителем."
   ]
  },
  {
   "cell_type": "code",
   "execution_count": 15,
   "id": "2284cdd8-7c6e-4b46-9a4a-dae2e61b892a",
   "metadata": {},
   "outputs": [],
   "source": [
    "dataframe['Revenue target'] = dataframe.groupby('Company')[['Revenue']].shift(-1)\n",
    "dataframe['Operating Income target'] = dataframe.groupby('Company')[['Operating Income']].shift(-1)\n",
    "\n",
    "dataframe.dropna(axis=0, inplace=True)"
   ]
  },
  {
   "cell_type": "markdown",
   "id": "ff7a9488-6b65-4b67-b805-43f66103d101",
   "metadata": {},
   "source": [
    "Из-за данного смещения, даты на который приходится тестовые данные также смещается на 1 квартал (test начинается с 2020-06-30 включительно)"
   ]
  },
  {
   "cell_type": "markdown",
   "id": "db6ff961-bf9d-4835-9244-9735eeebea10",
   "metadata": {},
   "source": [
    "![jupyter](res/pic1.png)"
   ]
  },
  {
   "cell_type": "markdown",
   "id": "b2f3d7c1-38c5-4384-996c-8927c3a882aa",
   "metadata": {},
   "source": [
    "Перед сохранением избавимся от исходных revenue и operation revenue"
   ]
  },
  {
   "cell_type": "code",
   "execution_count": 47,
   "id": "cebff5d6-ff38-4b82-8d41-0169e1a524c4",
   "metadata": {},
   "outputs": [],
   "source": [
    "#dataframe.drop(columns=['Revenue','Operating Income'], inplace = True)"
   ]
  },
  {
   "cell_type": "markdown",
   "id": "18f1d80a-23f0-489a-9cf5-0f378711d0bc",
   "metadata": {},
   "source": [
    "Делим датафрейм на test и train"
   ]
  },
  {
   "cell_type": "code",
   "execution_count": 17,
   "id": "e4711ed7-17dc-43cd-b710-84748aa7e027",
   "metadata": {},
   "outputs": [],
   "source": [
    "dataframe.to_csv('data/processed/data.csv', index=False)"
   ]
  },
  {
   "cell_type": "code",
   "execution_count": null,
   "id": "225b3f4e-50de-4609-9550-9a24fc8511ff",
   "metadata": {},
   "outputs": [],
   "source": []
  }
 ],
 "metadata": {
  "kernelspec": {
   "display_name": "Python 3 (ipykernel)",
   "language": "python",
   "name": "python3"
  },
  "language_info": {
   "codemirror_mode": {
    "name": "ipython",
    "version": 3
   },
   "file_extension": ".py",
   "mimetype": "text/x-python",
   "name": "python",
   "nbconvert_exporter": "python",
   "pygments_lexer": "ipython3",
   "version": "3.9.13"
  }
 },
 "nbformat": 4,
 "nbformat_minor": 5
}
